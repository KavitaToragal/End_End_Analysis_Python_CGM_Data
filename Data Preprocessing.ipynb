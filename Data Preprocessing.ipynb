{
 "cells": [
  {
   "cell_type": "code",
   "execution_count": 1,
   "id": "eb091856-1f74-43aa-9c76-3e122a321f22",
   "metadata": {},
   "outputs": [],
   "source": [
    "import pandas as pd\n",
    "import numpy as np\n",
    "import matplotlib.pyplot as plt\n",
    "import seaborn as sns\n",
    "import glob"
   ]
  },
  {
   "cell_type": "code",
   "execution_count": 2,
   "id": "5103041f-c20e-4e3f-b618-0c8f16dffb77",
   "metadata": {},
   "outputs": [
    {
     "name": "stdout",
     "output_type": "stream",
     "text": [
      "✅ Combined 25 CSV files into C:\\Users\\kavit\\OneDrive\\Documents\\PYTHON\\Data Files\\HUPA-UC Diabetes Dataset\\combined_output.xlsx with 309392 rows.\n"
     ]
    }
   ],
   "source": [
    "import pandas as pd\n",
    "import glob\n",
    "import os\n",
    "\n",
    "input_folder = r\"C:\\Users\\kavit\\OneDrive\\Documents\\PYTHON\\Data Files\\HUPA-UC Diabetes Dataset\"\n",
    "csv_files = glob.glob(os.path.join(input_folder, \"*.csv\"))\n",
    "\n",
    "dfs = []\n",
    "\n",
    "for file in csv_files:\n",
    "    # Patient ID is the filename without extension\n",
    "    patient_id = os.path.splitext(os.path.basename(file))[0]\n",
    "    \n",
    "    # Read CSV as single column\n",
    "    df = pd.read_csv(file, header=None)\n",
    "    \n",
    "    # Split single column by semicolon\n",
    "    df = df[0].str.split(';', expand=True)\n",
    "    \n",
    "    # First row is header\n",
    "    df.columns = df.iloc[0]\n",
    "    df = df[1:]  # remove header row from data\n",
    "    \n",
    "    # Insert Patient ID as the FIRST column\n",
    "    df.insert(0, 'Patient ID', patient_id)\n",
    "    \n",
    "    dfs.append(df)\n",
    "\n",
    "# Combine all files after Patient ID has been added individually\n",
    "combined = pd.concat(dfs, ignore_index=True)\n",
    "\n",
    "# Save to Excel\n",
    "output_file = os.path.join(input_folder, \"combined_output.xlsx\")\n",
    "combined.to_excel(output_file, index=False, engine='openpyxl')\n",
    "\n",
    "print(f\"✅ Combined {len(csv_files)} CSV files into {output_file} with {len(combined)} rows.\")\n"
   ]
  },
  {
   "cell_type": "code",
   "execution_count": 4,
   "id": "a821c8ef-3290-4150-a047-4c12cd4e4578",
   "metadata": {},
   "outputs": [
    {
     "name": "stdout",
     "output_type": "stream",
     "text": [
      "✅ Combined dataset saved to C:\\Users\\kavit\\OneDrive\\Documents\\PYTHON\\Data Files\\combined_output.xlsx with 309392 rows and 15 columns.\n"
     ]
    }
   ],
   "source": [
    "import pandas as pd\n",
    "\n",
    "# File paths\n",
    "glucose_file = r\"C:\\Users\\kavit\\OneDrive\\Documents\\PYTHON\\Data Files\\all_patients.xlsx\"\n",
    "demographics_file = r\"C:\\Users\\kavit\\OneDrive\\Documents\\PYTHON\\Data Files\\T1DM_patient_sleep_demographics_with_race.xlsx\"\n",
    "\n",
    "# Load both files\n",
    "glucose_df = pd.read_excel(glucose_file, engine='openpyxl')\n",
    "demo_df = pd.read_excel(demographics_file, engine='openpyxl')\n",
    "\n",
    "# Merge glucose with demographics\n",
    "combined_df = pd.merge(\n",
    "    glucose_df,\n",
    "    demo_df,\n",
    "    left_on=\"Patient ID\",\n",
    "    right_on=\"Patient_ID\",\n",
    "    how=\"left\"\n",
    ")\n",
    "\n",
    "# Drop duplicate Patient_ID\n",
    "combined_df = combined_df.drop(columns=[\"Patient_ID\"])\n",
    "\n",
    "# Reorder columns: Patient ID first, then glucose cols, then demographics\n",
    "glucose_cols = [\n",
    "    \"time\", \"glucose\", \"calories\", \"heart_rate\",\n",
    "    \"steps\", \"basal_rate\", \"bolus_volume_delivered\", \"carb_input\"\n",
    "]\n",
    "demo_cols = [\n",
    "    \"Age\", \"Gender\", \"Race\",\n",
    "    \"Average Sleep Duration (hrs)\",\n",
    "    \"Sleep Quality (1-10)\",\n",
    "    \"% with Sleep Disturbances\"\n",
    "]\n",
    "\n",
    "ordered_cols = [\"Patient ID\"] + glucose_cols + demo_cols\n",
    "combined_df = combined_df[ordered_cols]\n",
    "\n",
    "# Save final Excel\n",
    "output_file = r\"C:\\Users\\kavit\\OneDrive\\Documents\\PYTHON\\Data Files\\combined_output.xlsx\"\n",
    "combined_df.to_excel(output_file, index=False, engine='openpyxl')\n",
    "\n",
    "print(f\"✅ Combined dataset saved to {output_file} with {len(combined_df)} rows and {len(combined_df.columns)} columns.\")\n"
   ]
  },
  {
   "cell_type": "code",
   "execution_count": null,
   "id": "5c62e8b0-28e2-4e7c-876d-0ecd63f00a60",
   "metadata": {},
   "outputs": [],
   "source": []
  }
 ],
 "metadata": {
  "kernelspec": {
   "display_name": "Python [conda env:base] *",
   "language": "python",
   "name": "conda-base-py"
  },
  "language_info": {
   "codemirror_mode": {
    "name": "ipython",
    "version": 3
   },
   "file_extension": ".py",
   "mimetype": "text/x-python",
   "name": "python",
   "nbconvert_exporter": "python",
   "pygments_lexer": "ipython3",
   "version": "3.13.5"
  }
 },
 "nbformat": 4,
 "nbformat_minor": 5
}
